{
 "cells": [
  {
   "cell_type": "code",
   "execution_count": 1,
   "metadata": {
    "collapsed": true
   },
   "outputs": [],
   "source": [
    "import numpy as np\n",
    "import pandas as pd\n",
    "import matplotlib.pyplot as plt\n",
    "import os.path\n",
    "import scipy\n",
    "import argparse\n",
    "import math\n",
    "import cv2\n",
    "import sys\n",
    "import time\n",
    "import re\n",
    "from lxml import etree\n",
    "import caffe\n",
    "from scipy.optimize import fmin_bfgs, minimize\n",
    "from tqdm import tqdm\n",
    "\n",
    "%matplotlib inline"
   ]
  },
  {
   "cell_type": "code",
   "execution_count": 2,
   "metadata": {
    "collapsed": true
   },
   "outputs": [],
   "source": [
    "# xml\n",
    "def getImage(imageInput, input_shape=[1, 3, 360, 480]):\n",
    "    frameRaw = cv2.imread(imageInput)\n",
    "    rawSize = frameRaw.shape\n",
    "    frame = cv2.resize(frameRaw, (input_shape[3], input_shape[2]))\n",
    "    input_image = frame.transpose((2, 0, 1))\n",
    "    input_image = np.asarray([input_image])\n",
    "    return input_image,frameRaw,rawSize\n",
    "    \n",
    "    \n",
    "def parseChildren(dataSub):\n",
    "    dim_x = int(dataSub.getchildren()[0].text)\n",
    "    dim_y = int(dataSub.getchildren()[1].text)\n",
    "    return np.array(\n",
    "        filter(\n",
    "            lambda x: len(x)>0, re.split(\"\\n|\\s+\", dataSub.getchildren()[-1].text)\n",
    "        )).astype(np.float64).reshape([dim_x, dim_y])\n",
    "\n",
    "def parseInfo(xml_INFO):\n",
    "    tree = etree.parse(xml_INFO)\n",
    "    data = tree.getroot()\n",
    "    M_RTK = {}\n",
    "    for node in data:\n",
    "        if node.tag == \"rotation_matrix\":\n",
    "            M_RTK['R'] = parseChildren(node)\n",
    "        if node.tag == \"translation_vector\":\n",
    "            M_RTK['T'] = parseChildren(node)\n",
    "        if node.tag == \"camera_matrix\":\n",
    "            M_RTK['K'] = parseChildren(node)\n",
    "        if node.tag == \"distortion_coefficients\":\n",
    "            M_RTK['D'] = parseChildren(node)\n",
    "            \n",
    "    return M_RTK\n",
    "\n",
    "\n",
    "# CAFFE\n",
    "def loadNet(model, weights):\n",
    "    net = caffe.Net(model, weights, caffe.TEST)\n",
    "    return net\n",
    "\n",
    "def roadLaneFromSegNet(imageInput, net):\n",
    "    caffe.set_mode_gpu()\n",
    "    input_shape = net.blobs['data'].data.shape\n",
    "    output_shape = net.blobs['argmax'].data.shape\n",
    "\n",
    "    input_image,raw_image,rawSize = getImage(imageInput)\n",
    "    out = net.forward_all(data=input_image)\n",
    "    segmentation_ind = np.squeeze(net.blobs['argmax'].data)\n",
    "    segmentation_ind_3ch = np.resize(segmentation_ind, (3, input_shape[2], input_shape[3]))\n",
    "    #segmentation_ind\n",
    "    segmentation_ind_3ch = segmentation_ind_3ch.transpose(1, 2, 0).astype(np.uint8)\n",
    "    out = cv2.resize(((segmentation_ind_3ch[:,:,0]==3)*255).astype(np.uint8), (rawSize[1],rawSize[0]))\n",
    "    return out,raw_image\n",
    "\n",
    "\n",
    "def extractBinarizedImg(imgout,rawimg):\n",
    "    rawimg = rawimg[:,:,::-1]\n",
    "    imgBinary = (imgout>100).astype(np.int)\n",
    "    \n",
    "    for i in range(3):\n",
    "        rawimg[:,:,i] = rawimg[:,:,i]*imgBinary\n",
    "    \n",
    "    return rawimg\n",
    "\n",
    "\n",
    "def func(p, img, refPos):\n",
    "    a,b,c,d = p\n",
    "    tmpVar1 = ((refPos[0]-d)-c)\n",
    "    tmpVar2 = ((refPos[0]-d)+c)\n",
    "    \n",
    "    y = np.arange(200)\n",
    "    A =  a\n",
    "    B =  (b-2*a*tmpVar1)\n",
    "    C =  (a*tmpVar1**2.0 - b*(tmpVar1) + refPos[1] -y)\n",
    "    BB = (b-2*a*tmpVar2)\n",
    "    CC = (a*tmpVar2**2.0 - b*(tmpVar2) + refPos[1] -y)\n",
    "    \n",
    "    core = B**2-4*A*C\n",
    "    y = y[core >= 0]\n",
    "    \n",
    "    core = core[core >= 0]\n",
    "    x11 = ((-B + np.sqrt(core)) / (2*A)).astype(int)\n",
    "    x12 = ((-B - np.sqrt(core)) / (2*A)).astype(int)\n",
    "    x21 = ((-BB + np.sqrt(core)) / (2*A)).astype(int)\n",
    "    x22 = ((-BB - np.sqrt(core)) / (2*A)).astype(int)\n",
    "\n",
    "    \n",
    "    return [x11, x12, x21, x22, y]\n",
    "\n",
    "\n",
    "def loss(p, img, refPos):\n",
    "    x11, x12, x21, x22, y = func(p, img, refPos)\n",
    "    idx1 = filter(lambda x: x[0]<100 and x[0]>0, np.concatenate([x11, y]).reshape(-1,2, order='F'))\n",
    "    idx2 = filter(lambda x: x[0]<100 and x[0]>0, np.concatenate([x12, y]).reshape(-1,2, order='F'))\n",
    "    idx3 = filter(lambda x: x[0]<100 and x[0]>0, np.concatenate([x21, y]).reshape(-1,2, order='F'))\n",
    "    idx4 = filter(lambda x: x[0]<100 and x[0]>0, np.concatenate([x22, y]).reshape(-1,2, order='F'))\n",
    "    Idx = np.array(idx1 + idx2 + idx3 + idx4)\n",
    "    Idxnear = Idx[Idx[:,1] > 170]\n",
    "    return np.sum(img[Idx[:,1], Idx[:,0]]>0) + 20* np.sum(img[Idxnear[:,1], Idxnear[:,0]]>0)\n",
    "\n",
    "\n",
    "def getBestParams(img, params, refPos):\n",
    "    la,lb,lc,ld = params\n",
    "    l_loss = []\n",
    "    l_param = []\n",
    "    for aa in la:\n",
    "        for bb in lb:\n",
    "            for cc in lc:\n",
    "                for dd in ld:\n",
    "                    pp = [aa,bb,cc,dd]\n",
    "                    l = loss(pp, img, refPos)\n",
    "                    l_param.append(pp)\n",
    "                    l_loss.append(l)\n",
    "    \n",
    "    np_params = np.array(l_param)\n",
    "    l_best = pd.DataFrame({\n",
    "           \"Loss\" : np.array(l_loss), \n",
    "              \"A\" : np_params[:,0], \n",
    "              \"B\" : np_params[:,1],\n",
    "              \"C\" : np_params[:,2], \n",
    "              \"D\" : np_params[:,3]  }\n",
    "    ).sort_values(['Loss'], ascending=False).iloc[0].values\n",
    "    return func(l_best[0:4], img, refPos), l_best\n",
    "\n",
    "\n",
    "def PrevFilter(d, l_errors):\n",
    "    if len(l_errors)==0:\n",
    "        return d\n",
    "    \n",
    "    else:\n",
    "        return d*0.5 + np.array(l_errors[-1]*0.5).mean()\n",
    "\n",
    "\n",
    "def generateAllFrame(samp, xml_INFO, net, BEV_coord, initParams, predLinFit=None):\n",
    "    \n",
    "    l_image =  os.listdir(\"%s/%s\" % (image_dir,  samp))\n",
    "    l_image = sorted(l_image)\n",
    "    \n",
    "    sampOutDir = \"%s/%s\" % (out_dir, samp)\n",
    "    if not os.path.isdir(sampOutDir):\n",
    "        os.mkdir(sampOutDir)\n",
    "    \n",
    "    coord_3d = BEV_coord['coord_3d']\n",
    "    coord_6m = BEV_coord['coord_600cm']\n",
    "\n",
    "    M_RTK = parseInfo(xml_INFO)\n",
    "    src,jac = cv2.projectPoints(coord_3d, M_RTK['R'],  M_RTK['T'], M_RTK['K'], M_RTK['D'] )\n",
    "    src = src[src[:,0,:].argsort(axis=0)[:,0],0,:]\n",
    "    src_6m = cv2.projectPoints(coord_6m, M_RTK['R'],  M_RTK['T'], M_RTK['K'], M_RTK['D'] )[0][0][0]\n",
    "    \n",
    "    dst = np.array([[[10,200], [10,0], [90,0], [90,200]]]).astype(np.float32)\n",
    "    M    = cv2.getPerspectiveTransform(src, dst)\n",
    "    Minv = cv2.getPerspectiveTransform(dst, src)\n",
    "    mm = np.dot(M, np.array(list(src_6m) + [1.]))\n",
    "    xy_trans = (mm / mm[2])[0:2]\n",
    "    #npz_trans = \"%s/%s-BEV.npz\" % (sampOutDir, samp)\n",
    "    #np.savez(npz_trans, M=M, Minv=Minv, pt600=xy_trans)\n",
    "    \n",
    "    refPos = xy_trans\n",
    "    l_name = []\n",
    "    l_nameRaw = []\n",
    "    l_t_x = []\n",
    "    l_t_y = []\n",
    "    l_errors = []\n",
    "    \n",
    "    seedParams = []\n",
    "    \n",
    "    for i in tqdm(range(len(l_image))):\n",
    "        inName  = \"%s/%s/%s\" % (image_dir,samp,l_image[i])\n",
    "        caffeOutImg,rawImg = roadLaneFromSegNet(inName, net)\n",
    "\n",
    "        rawImg2 = rawImg.copy()\n",
    "        binarizedImg = caffeOutImg             #extractBinarizedImg(caffeOutImg, rawImg2)\n",
    "        binarizedImg_t = cv2.warpPerspective(binarizedImg, M, (100, 200), cv2.WARP_INVERSE_MAP)\n",
    "        #outName = \"%s/%s.BEVLane.png\" % (sampOutDir, l_image[i].split(\".png\")[0])\n",
    "        #cv2.imwrite(outName, binarizedImg_t)   #cv2.cvtColor(binarizedImg_t, cv2.COLOR_BGR2RGB))\n",
    "        \n",
    "        \n",
    "        paramSearch = None\n",
    "        if len(seedParams) == 0:\n",
    "            paramSearch = initParams\n",
    "        else:\n",
    "            lla = np.linspace(seedParams[0]-(initParams[0][1]-initParams[0][0]),\n",
    "                              seedParams[0]+(initParams[0][1]-initParams[0][0]), 3)\n",
    "            llb = np.linspace(seedParams[1]-(initParams[1][1]-initParams[1][0]),\n",
    "                              seedParams[1]+(initParams[1][1]-initParams[1][0]), 3)\n",
    "            llc = np.arange(seedParams[2]-2, seedParams[2]+3, 2)\n",
    "            lld = np.arange(seedParams[3]-1, seedParams[3]+2)\n",
    "            paramSearch = [lla, llb, llc, lld]\n",
    "        \n",
    "        coords,params = getBestParams(binarizedImg_t, paramSearch, refPos)\n",
    "        #print(params)\n",
    "        d = params[3]\n",
    "        seedParams = params\n",
    "        d = PrevFilter(d, l_errors)\n",
    "        l_errors.append(d)\n",
    "        \n",
    "    if predLinFit is None:\n",
    "        return l_errors\n",
    "    \n",
    "    else:\n",
    "        return [e*predLinFit[0]+predLinFit[1] for e in l_errors]\n",
    "    \n",
    "\n"
   ]
  },
  {
   "cell_type": "code",
   "execution_count": 3,
   "metadata": {},
   "outputs": [],
   "source": [
    "image_dir    = \"/hdfs/huboqiang/dataset/renwu/TSD-LKSM/\"\n",
    "out_dir = \"./LKSM2\"\n",
    "model   = \"./Example_Models/segnet_model_driving_webdemo.prototxt\"\n",
    "weights = \"./Example_Models/segnet_weights_driving_webdemo.caffemodel\"\n",
    "\n",
    "width   = 300\n",
    "x_start = 200\n",
    "x_end   = 6000\n",
    "\n",
    "\n",
    "\n",
    "coord_3d = np.float32([\n",
    "        [x_start,-width,0], [x_start, width,0], \n",
    "        [x_end,  -width,0], [x_end,   width,0]\n",
    "]).reshape(-1,3)\n",
    "coord_6m = np.array([600., 0., 0.]).reshape(-1,3)\n",
    "\n",
    "BEV_coords = {\n",
    "    \"coord_3d\":coord_3d,\n",
    "    \"coord_600cm\" : coord_6m\n",
    "}\n",
    "\n",
    "initParams = [\n",
    "    np.linspace(0.001, 0.02, 10),\n",
    "    np.array(list(np.linspace(1.5, 50, 10)) + list(np.linspace(-50, 1.5, 10))),\n",
    "    np.arange( 23, 28, 2),\n",
    "    np.arange(-15, 15, 2)\n",
    "]\n",
    "predLinFit = np.array([ 6.66317499,  1.35541496])"
   ]
  },
  {
   "cell_type": "markdown",
   "metadata": {},
   "source": [
    "# Predict"
   ]
  },
  {
   "cell_type": "code",
   "execution_count": 4,
   "metadata": {
    "collapsed": true
   },
   "outputs": [],
   "source": [
    "samp = \"TSD-LKSM-00159\"\n",
    "xml_INFO = \"./xml/TSD-LKSM-Info/TSD-LKSM-00159-Info.xml\""
   ]
  },
  {
   "cell_type": "code",
   "execution_count": 5,
   "metadata": {
    "scrolled": true
   },
   "outputs": [
    {
     "name": "stderr",
     "output_type": "stream",
     "text": [
      "100%|██████████| 50/50 [00:10<00:00,  4.57it/s]\n"
     ]
    }
   ],
   "source": [
    "net = loadNet(model, weights)\n",
    "\n",
    "l_err = generateAllFrame(samp, xml_INFO=xml_INFO, net=net, BEV_coord=BEV_coords, initParams=initParams, predLinFit=predLinFit)\n",
    "\n",
    "with open(\"./%s.xml\" % (samp), 'w') as f_out:\n",
    "    f_out.write(\"<opencv_storage>\\n\")\n",
    "    for i,e in enumerate(l_err):\n",
    "        f_out.write(\"  <Frame%0*d>%e</Frame%0*d>\\n\" % (5, 1, e, 5, 1))\n",
    "        \n",
    "    f_out.write(\"</opencv_storage>\")"
   ]
  },
  {
   "cell_type": "markdown",
   "metadata": {},
   "source": [
    "# Training for predLinFit"
   ]
  },
  {
   "cell_type": "code",
   "execution_count": 7,
   "metadata": {
    "scrolled": true
   },
   "outputs": [
    {
     "name": "stderr",
     "output_type": "stream",
     "text": [
      "100%|██████████| 50/50 [00:11<00:00,  4.40it/s]\n",
      "100%|██████████| 50/50 [00:11<00:00,  4.37it/s]\n",
      "100%|██████████| 50/50 [00:11<00:00,  4.31it/s]\n",
      "100%|██████████| 50/50 [00:10<00:00,  4.57it/s]\n",
      "100%|██████████| 50/50 [00:11<00:00,  4.38it/s]\n",
      "100%|██████████| 50/50 [00:11<00:00,  4.19it/s]\n",
      "100%|██████████| 50/50 [00:11<00:00,  4.31it/s]\n",
      "100%|██████████| 50/50 [00:11<00:00,  4.45it/s]\n",
      "100%|██████████| 50/50 [00:11<00:00,  4.32it/s]\n",
      "100%|██████████| 50/50 [00:11<00:00,  4.32it/s]\n"
     ]
    }
   ],
   "source": [
    "l_samp = !ls ./LKSM2/\n",
    "\n",
    "from functools import partial\n",
    "ll_err = map(partial(generateAllFrame, xml_INFO=xml_INFO,net=net, BEV_coord=BEV_coords, initParams=initParams), l_samp)\n"
   ]
  },
  {
   "cell_type": "code",
   "execution_count": 12,
   "metadata": {
    "collapsed": true
   },
   "outputs": [],
   "source": [
    "def getGT(samp,xml_GT_dir=\"/hdfs/huboqiang/kaggle/selfDriving/suzhou/SegNet-Tutorial/xml/TSD-LKSM-GT/\"):\n",
    "    tree = etree.parse('%s/%s-GT.xml' % (xml_GT_dir, samp))\n",
    "    data = tree.getroot()\n",
    "    l_gtVal = []\n",
    "    for node in data:\n",
    "        l_gtVal.append(float(node.text))\n",
    "\n",
    "    return l_gtVal\n",
    "    "
   ]
  },
  {
   "cell_type": "code",
   "execution_count": 13,
   "metadata": {},
   "outputs": [],
   "source": [
    "l_d = reduce(lambda x,y: x+y, ll_err)\n",
    "l_GT = reduce(lambda x,y: x+y, map(getGT, l_samp))"
   ]
  },
  {
   "cell_type": "code",
   "execution_count": 15,
   "metadata": {},
   "outputs": [
    {
     "data": {
      "text/plain": [
       "array([ 6.66317499,  1.35541496])"
      ]
     },
     "execution_count": 15,
     "metadata": {},
     "output_type": "execute_result"
    }
   ],
   "source": [
    "f_fit = np.polyfit(l_d, l_GT, 1)\n",
    "f_fit"
   ]
  },
  {
   "cell_type": "code",
   "execution_count": null,
   "metadata": {},
   "outputs": [],
   "source": [
    "plt.plot( np.array(l_d)*f_fit[0]+f_fit[1], l_GT, '.')\n",
    "plt.plot(np.linspace(-40, 120, 10),np.linspace(-40, 120, 10)+20, 'g')\n",
    "plt.plot(np.linspace(-40, 120, 10),np.linspace(-40, 120, 10)-20, 'g')"
   ]
  },
  {
   "cell_type": "code",
   "execution_count": null,
   "metadata": {
    "collapsed": true
   },
   "outputs": [],
   "source": []
  }
 ],
 "metadata": {
  "kernelspec": {
   "display_name": "Python 2",
   "language": "python",
   "name": "python2"
  },
  "language_info": {
   "codemirror_mode": {
    "name": "ipython",
    "version": 2
   },
   "file_extension": ".py",
   "mimetype": "text/x-python",
   "name": "python",
   "nbconvert_exporter": "python",
   "pygments_lexer": "ipython2",
   "version": "2.7.13"
  }
 },
 "nbformat": 4,
 "nbformat_minor": 2
}
